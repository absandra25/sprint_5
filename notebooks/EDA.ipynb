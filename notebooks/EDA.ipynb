{
 "cells": [
  {
   "cell_type": "code",
   "execution_count": null,
   "metadata": {},
   "outputs": [],
   "source": [
    "import pandas as pd\n",
    "import plotly.express as px\n",
    "\n",
    "car_data = pd.read_csv('/workspaces/sprint_5/vehicles_us.csv') # leer los datos\n",
    "#fig = px.histogram(car_data, x=\"odometer\") # crear un histograma\n",
    "#fig.show() # crear gráfico de dispersión\n",
    "fig = px.histogram(car_data, x=\"model_year\",  title='Histograma promedio del precio por año del modelo' , y=\"price\", histfunc='avg')\n",
    "fig.update_layout(bargap=0.2)\n",
    "fig.show()"
   ]
  }
 ],
 "metadata": {
  "language_info": {
   "name": "python"
  }
 },
 "nbformat": 4,
 "nbformat_minor": 2
}
